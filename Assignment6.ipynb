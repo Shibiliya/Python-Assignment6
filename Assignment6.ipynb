{
 "cells": [
  {
   "cell_type": "code",
   "execution_count": 1,
   "id": "171d2e7c-bd60-465b-84b6-bc12220626e3",
   "metadata": {},
   "outputs": [
    {
     "name": "stdout",
     "output_type": "stream",
     "text": [
      "Course Code: CS101, Course Name: Introduction to Computer Science, Credit Hours: 3, Required for Major: True\n",
      "Course Code: HIST201, Course Name: World History, Credit Hours: 2, Elective Type: liberal arts\n"
     ]
    }
   ],
   "source": [
    "#Exercise 1\n",
    "#Base class\n",
    "class Course:\n",
    "    def __init__(self, course_code, course_name, credit_hours):\n",
    "        self.course_code = course_code\n",
    "        self.course_name = course_name\n",
    "        self.credit_hours = credit_hours\n",
    "\n",
    "    def display_info(self):\n",
    "        return f\"Course Code: {self.course_code}, Course Name: {self.course_name}, Credit Hours: {self.credit_hours}\"\n",
    "\n",
    "# Subclass for Core Courses\n",
    "class CoreCourse(Course):\n",
    "    def __init__(self, course_code, course_name, credit_hours, required_for_major):\n",
    "        self.course_code = course_code  \n",
    "        self.course_name = course_name  \n",
    "        self.credit_hours = credit_hours  \n",
    "        self.required_for_major = required_for_major  \n",
    "\n",
    "    def display_info(self):  \n",
    "        return (f\"Course Code: {self.course_code}, Course Name: {self.course_name}, \"\n",
    "                f\"Credit Hours: {self.credit_hours}, Required for Major: {self.required_for_major}\")\n",
    "\n",
    "#subclass for elective courses\n",
    "class ElectiveCourse(Course):  \n",
    "    def __init__(self, course_code, course_name, credit_hours, elective_type):  \n",
    "        self.course_code = course_code  \n",
    "        self.course_name = course_name  \n",
    "        self.credit_hours = credit_hours  \n",
    "        self.elective_type = elective_type  \n",
    "\n",
    "    def display_info(self):  \n",
    "        return (f\"Course Code: {self.course_code}, Course Name: {self.course_name}, \"\n",
    "                f\"Credit Hours: {self.credit_hours}, Elective Type: {self.elective_type}\")\n",
    "\n",
    "\n",
    "core=CoreCourse(\"CS101\", \"Introduction to Computer Science\", 3, True)\n",
    "elective=ElectiveCourse(\"HIST201\", \"World History\",2, \"liberal arts\")\n",
    "\n",
    "print(core.display_info())\n",
    "print(elective.display_info())\n"
   ]
  },
  {
   "cell_type": "code",
   "execution_count": null,
   "id": "2cefcc81-7a38-4c56-8536-d5e9ab6d09b5",
   "metadata": {},
   "outputs": [],
   "source": []
  }
 ],
 "metadata": {
  "kernelspec": {
   "display_name": "Python 3 (ipykernel)",
   "language": "python",
   "name": "python3"
  },
  "language_info": {
   "codemirror_mode": {
    "name": "ipython",
    "version": 3
   },
   "file_extension": ".py",
   "mimetype": "text/x-python",
   "name": "python",
   "nbconvert_exporter": "python",
   "pygments_lexer": "ipython3",
   "version": "3.12.7"
  }
 },
 "nbformat": 4,
 "nbformat_minor": 5
}
